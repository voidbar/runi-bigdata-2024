{
 "cells": [
  {
   "cell_type": "code",
   "execution_count": 1,
   "metadata": {},
   "outputs": [
    {
     "name": "stderr",
     "output_type": "stream",
     "text": [
      "Downloading...\n",
      "From: https://drive.google.com/uc?id=1Z3RNNc8Hqa3KYIGCuYpp0Ubgfx5-1DYC\n",
      "To: /home/tommy/workspace/uni/bigdata/ex1/dataset.zip\n",
      "100%|██████████| 20.6M/20.6M [00:00<00:00, 21.7MB/s]\n"
     ]
    },
    {
     "data": {
      "text/plain": [
       "'dataset.zip'"
      ]
     },
     "execution_count": 1,
     "metadata": {},
     "output_type": "execute_result"
    }
   ],
   "source": [
    "import gdown\n",
    "gdown.download(\"https://drive.google.com/file/d/1Z3RNNc8Hqa3KYIGCuYpp0Ubgfx5-1DYC/view?usp=drive_link\", \"dataset.zip\", fuzzy=True)"
   ]
  },
  {
   "cell_type": "code",
   "execution_count": 2,
   "metadata": {},
   "outputs": [
    {
     "name": "stdout",
     "output_type": "stream",
     "text": [
      "Archive:  dataset.zip\n",
      "  inflating: AirPollutionSeoul/Measurement_summary.csv  \n",
      "  inflating: AirPollutionSeoul/Original Data/Measurement_info.csv  \n",
      "  inflating: AirPollutionSeoul/Original Data/Measurement_item_info.csv  \n",
      "  inflating: AirPollutionSeoul/Original Data/Measurement_station_info.csv  \n"
     ]
    }
   ],
   "source": [
    "!unzip dataset.zip"
   ]
  },
  {
   "cell_type": "code",
   "execution_count": 3,
   "metadata": {},
   "outputs": [],
   "source": [
    "import pandas as pd\n",
    "import numpy as np\n",
    "import matplotlib.pyplot as plt\n",
    "import seaborn as sns"
   ]
  },
  {
   "cell_type": "markdown",
   "metadata": {},
   "source": [
    "## Question 1\n",
    "\n",
    "The databse source can be found here:\n",
    "https://www.kaggle.com/datasets/bappekim/air-pollution-in-seoul/data\n"
   ]
  },
  {
   "cell_type": "code",
   "execution_count": 4,
   "metadata": {},
   "outputs": [
    {
     "data": {
      "text/html": [
       "<div>\n",
       "<style scoped>\n",
       "    .dataframe tbody tr th:only-of-type {\n",
       "        vertical-align: middle;\n",
       "    }\n",
       "\n",
       "    .dataframe tbody tr th {\n",
       "        vertical-align: top;\n",
       "    }\n",
       "\n",
       "    .dataframe thead th {\n",
       "        text-align: right;\n",
       "    }\n",
       "</style>\n",
       "<table border=\"1\" class=\"dataframe\">\n",
       "  <thead>\n",
       "    <tr style=\"text-align: right;\">\n",
       "      <th></th>\n",
       "      <th>Measurement date</th>\n",
       "      <th>Station code</th>\n",
       "      <th>Item code</th>\n",
       "      <th>Average value</th>\n",
       "      <th>Instrument status</th>\n",
       "    </tr>\n",
       "  </thead>\n",
       "  <tbody>\n",
       "    <tr>\n",
       "      <th>0</th>\n",
       "      <td>2017-01-01 00:00</td>\n",
       "      <td>101</td>\n",
       "      <td>1</td>\n",
       "      <td>0.004</td>\n",
       "      <td>0</td>\n",
       "    </tr>\n",
       "    <tr>\n",
       "      <th>1</th>\n",
       "      <td>2017-01-01 00:00</td>\n",
       "      <td>101</td>\n",
       "      <td>3</td>\n",
       "      <td>0.059</td>\n",
       "      <td>0</td>\n",
       "    </tr>\n",
       "    <tr>\n",
       "      <th>2</th>\n",
       "      <td>2017-01-01 00:00</td>\n",
       "      <td>101</td>\n",
       "      <td>5</td>\n",
       "      <td>1.200</td>\n",
       "      <td>0</td>\n",
       "    </tr>\n",
       "    <tr>\n",
       "      <th>3</th>\n",
       "      <td>2017-01-01 00:00</td>\n",
       "      <td>101</td>\n",
       "      <td>6</td>\n",
       "      <td>0.002</td>\n",
       "      <td>0</td>\n",
       "    </tr>\n",
       "    <tr>\n",
       "      <th>4</th>\n",
       "      <td>2017-01-01 00:00</td>\n",
       "      <td>101</td>\n",
       "      <td>8</td>\n",
       "      <td>73.000</td>\n",
       "      <td>0</td>\n",
       "    </tr>\n",
       "  </tbody>\n",
       "</table>\n",
       "</div>"
      ],
      "text/plain": [
       "   Measurement date  Station code  Item code  Average value  Instrument status\n",
       "0  2017-01-01 00:00           101          1          0.004                  0\n",
       "1  2017-01-01 00:00           101          3          0.059                  0\n",
       "2  2017-01-01 00:00           101          5          1.200                  0\n",
       "3  2017-01-01 00:00           101          6          0.002                  0\n",
       "4  2017-01-01 00:00           101          8         73.000                  0"
      ]
     },
     "execution_count": 4,
     "metadata": {},
     "output_type": "execute_result"
    }
   ],
   "source": [
    "measurement_info=pd.read_csv(\"AirPollutionSeoul/Original Data/Measurement_info.csv\")\n",
    "measurement_info.head()"
   ]
  },
  {
   "cell_type": "code",
   "execution_count": 6,
   "metadata": {},
   "outputs": [
    {
     "data": {
      "text/html": [
       "<div>\n",
       "<style scoped>\n",
       "    .dataframe tbody tr th:only-of-type {\n",
       "        vertical-align: middle;\n",
       "    }\n",
       "\n",
       "    .dataframe tbody tr th {\n",
       "        vertical-align: top;\n",
       "    }\n",
       "\n",
       "    .dataframe thead th {\n",
       "        text-align: right;\n",
       "    }\n",
       "</style>\n",
       "<table border=\"1\" class=\"dataframe\">\n",
       "  <thead>\n",
       "    <tr style=\"text-align: right;\">\n",
       "      <th></th>\n",
       "      <th>Item code</th>\n",
       "      <th>Item name</th>\n",
       "      <th>Unit of measurement</th>\n",
       "      <th>Good(Blue)</th>\n",
       "      <th>Normal(Green)</th>\n",
       "      <th>Bad(Yellow)</th>\n",
       "      <th>Very bad(Red)</th>\n",
       "    </tr>\n",
       "  </thead>\n",
       "  <tbody>\n",
       "    <tr>\n",
       "      <th>0</th>\n",
       "      <td>1</td>\n",
       "      <td>SO2</td>\n",
       "      <td>ppm</td>\n",
       "      <td>0.02</td>\n",
       "      <td>0.05</td>\n",
       "      <td>0.15</td>\n",
       "      <td>1.0</td>\n",
       "    </tr>\n",
       "    <tr>\n",
       "      <th>1</th>\n",
       "      <td>3</td>\n",
       "      <td>NO2</td>\n",
       "      <td>ppm</td>\n",
       "      <td>0.03</td>\n",
       "      <td>0.06</td>\n",
       "      <td>0.20</td>\n",
       "      <td>2.0</td>\n",
       "    </tr>\n",
       "    <tr>\n",
       "      <th>2</th>\n",
       "      <td>5</td>\n",
       "      <td>CO</td>\n",
       "      <td>ppm</td>\n",
       "      <td>2.00</td>\n",
       "      <td>9.00</td>\n",
       "      <td>15.00</td>\n",
       "      <td>50.0</td>\n",
       "    </tr>\n",
       "    <tr>\n",
       "      <th>3</th>\n",
       "      <td>6</td>\n",
       "      <td>O3</td>\n",
       "      <td>ppm</td>\n",
       "      <td>0.03</td>\n",
       "      <td>0.09</td>\n",
       "      <td>0.15</td>\n",
       "      <td>0.5</td>\n",
       "    </tr>\n",
       "    <tr>\n",
       "      <th>4</th>\n",
       "      <td>8</td>\n",
       "      <td>PM10</td>\n",
       "      <td>Mircrogram/m3</td>\n",
       "      <td>30.00</td>\n",
       "      <td>80.00</td>\n",
       "      <td>150.00</td>\n",
       "      <td>600.0</td>\n",
       "    </tr>\n",
       "  </tbody>\n",
       "</table>\n",
       "</div>"
      ],
      "text/plain": [
       "   Item code Item name Unit of measurement  Good(Blue)  Normal(Green)  \\\n",
       "0          1       SO2                 ppm        0.02           0.05   \n",
       "1          3       NO2                 ppm        0.03           0.06   \n",
       "2          5        CO                 ppm        2.00           9.00   \n",
       "3          6        O3                 ppm        0.03           0.09   \n",
       "4          8      PM10       Mircrogram/m3       30.00          80.00   \n",
       "\n",
       "   Bad(Yellow)  Very bad(Red)  \n",
       "0         0.15            1.0  \n",
       "1         0.20            2.0  \n",
       "2        15.00           50.0  \n",
       "3         0.15            0.5  \n",
       "4       150.00          600.0  "
      ]
     },
     "execution_count": 6,
     "metadata": {},
     "output_type": "execute_result"
    }
   ],
   "source": [
    "measurement_item_info=pd.read_csv(\"AirPollutionSeoul/Original Data/Measurement_item_info.csv\")\n",
    "measurement_item_info.head()"
   ]
  },
  {
   "cell_type": "code",
   "execution_count": 7,
   "metadata": {},
   "outputs": [
    {
     "data": {
      "text/html": [
       "<div>\n",
       "<style scoped>\n",
       "    .dataframe tbody tr th:only-of-type {\n",
       "        vertical-align: middle;\n",
       "    }\n",
       "\n",
       "    .dataframe tbody tr th {\n",
       "        vertical-align: top;\n",
       "    }\n",
       "\n",
       "    .dataframe thead th {\n",
       "        text-align: right;\n",
       "    }\n",
       "</style>\n",
       "<table border=\"1\" class=\"dataframe\">\n",
       "  <thead>\n",
       "    <tr style=\"text-align: right;\">\n",
       "      <th></th>\n",
       "      <th>Station code</th>\n",
       "      <th>Station name(district)</th>\n",
       "      <th>Address</th>\n",
       "      <th>Latitude</th>\n",
       "      <th>Longitude</th>\n",
       "    </tr>\n",
       "  </thead>\n",
       "  <tbody>\n",
       "    <tr>\n",
       "      <th>0</th>\n",
       "      <td>101</td>\n",
       "      <td>Jongno-gu</td>\n",
       "      <td>19, Jong-ro 35ga-gil, Jongno-gu, Seoul, Republ...</td>\n",
       "      <td>37.572016</td>\n",
       "      <td>127.005008</td>\n",
       "    </tr>\n",
       "    <tr>\n",
       "      <th>1</th>\n",
       "      <td>102</td>\n",
       "      <td>Jung-gu</td>\n",
       "      <td>15, Deoksugung-gil, Jung-gu, Seoul, Republic o...</td>\n",
       "      <td>37.564263</td>\n",
       "      <td>126.974676</td>\n",
       "    </tr>\n",
       "    <tr>\n",
       "      <th>2</th>\n",
       "      <td>103</td>\n",
       "      <td>Yongsan-gu</td>\n",
       "      <td>136, Hannam-daero, Yongsan-gu, Seoul, Republic...</td>\n",
       "      <td>37.540033</td>\n",
       "      <td>127.004850</td>\n",
       "    </tr>\n",
       "    <tr>\n",
       "      <th>3</th>\n",
       "      <td>104</td>\n",
       "      <td>Eunpyeong-gu</td>\n",
       "      <td>215, Jinheung-ro, Eunpyeong-gu, Seoul, Republi...</td>\n",
       "      <td>37.609823</td>\n",
       "      <td>126.934848</td>\n",
       "    </tr>\n",
       "    <tr>\n",
       "      <th>4</th>\n",
       "      <td>105</td>\n",
       "      <td>Seodaemun-gu</td>\n",
       "      <td>32, Segeomjeong-ro 4-gil, Seodaemun-gu, Seoul,...</td>\n",
       "      <td>37.593742</td>\n",
       "      <td>126.949679</td>\n",
       "    </tr>\n",
       "  </tbody>\n",
       "</table>\n",
       "</div>"
      ],
      "text/plain": [
       "   Station code Station name(district)  \\\n",
       "0           101              Jongno-gu   \n",
       "1           102                Jung-gu   \n",
       "2           103             Yongsan-gu   \n",
       "3           104           Eunpyeong-gu   \n",
       "4           105           Seodaemun-gu   \n",
       "\n",
       "                                             Address   Latitude   Longitude  \n",
       "0  19, Jong-ro 35ga-gil, Jongno-gu, Seoul, Republ...  37.572016  127.005008  \n",
       "1  15, Deoksugung-gil, Jung-gu, Seoul, Republic o...  37.564263  126.974676  \n",
       "2  136, Hannam-daero, Yongsan-gu, Seoul, Republic...  37.540033  127.004850  \n",
       "3  215, Jinheung-ro, Eunpyeong-gu, Seoul, Republi...  37.609823  126.934848  \n",
       "4  32, Segeomjeong-ro 4-gil, Seodaemun-gu, Seoul,...  37.593742  126.949679  "
      ]
     },
     "execution_count": 7,
     "metadata": {},
     "output_type": "execute_result"
    }
   ],
   "source": [
    "measurement_station_info=pd.read_csv(\"AirPollutionSeoul/Original Data/Measurement_station_info.csv\")\n",
    "measurement_station_info.head()"
   ]
  },
  {
   "cell_type": "markdown",
   "metadata": {},
   "source": [
    "## Question 2\n",
    "\n",
    "# TODO: make sure this is in the format that they wanted\n",
    "\n",
    "A schema for the air pollution measurements in Seoul dataset will look as follows:\n",
    "\n",
    "### 1. Measurement Info Table\n",
    "\n",
    "This table stores the air pollution measurements. Queries on this table are likely to be based on date, station code, and item code.\n",
    "\n",
    "- **Table Name**: `measurement_info`\n",
    "- **Primary Key**:\n",
    "  - **Partition Key**: `station_code`\n",
    "  - **Clustering Columns**: `measurement_date`, `item_code`\n",
    "- **Columns**:\n",
    "  - `measurement_date` (timestamp)\n",
    "  - `station_code` (int)\n",
    "  - `item_code` (int)\n",
    "  - `average_value` (float)\n",
    "  - `instrument_status` (int)\n",
    "\n",
    "This schema will efficiently support queries filtering by a specific station and then ordering or filtering further by date and pollutant item.\n",
    "\n",
    "### 2. Measurement Item Info Table\n",
    "\n",
    "This table contains information about the measurement items (pollutants).\n",
    "\n",
    "- **Table Name**: `measurement_item_info`\n",
    "- **Primary Key**:\n",
    "  - **Partition Key**: `item_code`\n",
    "- **Columns**:\n",
    "  - `item_code` (int)\n",
    "  - `item_name` (text)\n",
    "  - `unit_of_measurement` (text)\n",
    "  - `good_blue` (float)\n",
    "  - `normal_green` (float)\n",
    "  - `bad_yellow` (float)\n",
    "  - `very_bad_red` (float)\n",
    "\n",
    "Since the queries on this table will likely be to retrieve information about a specific pollutant, the item code is a suitable partition key.\n",
    "\n",
    "### 3. Measurement Station Info Table\n",
    "\n",
    "This table stores information about the measurement stations.\n",
    "\n",
    "- **Table Name**: `measurement_station_info`\n",
    "- **Primary Key**:\n",
    "  - **Partition Key**: `station_code`\n",
    "- **Columns**:\n",
    "  - `station_code` (int)\n",
    "  - `station_name` (text)\n",
    "  - `address` (text)\n",
    "  - `latitude` (float)\n",
    "  - `longitude` (float)\n",
    "\n",
    "Queries on this table will likely involve looking up information based on the station code, making it a suitable partition key."
   ]
  },
  {
   "cell_type": "markdown",
   "metadata": {},
   "source": [
    "## Question 3\n"
   ]
  },
  {
   "cell_type": "code",
   "execution_count": 54,
   "metadata": {},
   "outputs": [
    {
     "name": "stdout",
     "output_type": "stream",
     "text": [
      "Error response from daemon: Cannot kill container: ex1_cassandra: No such container: ex1_cassandra\n",
      "c447c0d21c35353647278124735a7673f4c5fccdb48fae8ee0ed117a2941e492\n"
     ]
    }
   ],
   "source": [
    "# Kill any running previous instance\n",
    "! docker kill ex1_cassandra || true\n",
    "\n",
    "# Setting up cassandra instance using docker with local persistent storage under the persistent_data folder.\n",
    "# The cassandra.yaml file is also mounted to the container to allow for configuration changes.\n",
    "! docker run --rm -d --name ex1_cassandra -p 9042:9042 -v `pwd`/cassandra.yaml:/etc/cassandra/cassandra.yaml -v `pwd`/persistent_data:/var/lib/cassandra cassandra "
   ]
  },
  {
   "cell_type": "code",
   "execution_count": 18,
   "metadata": {},
   "outputs": [],
   "source": [
    "from cassandra.cluster import Cluster\n",
    "from cassandra.query import BatchStatement\n",
    "from cassandra.query import SimpleStatement\n",
    "\n",
    "# Setup Cassandra Connection\n",
    "cluster = Cluster(['127.0.0.1'])\n",
    "session = cluster.connect()\n"
   ]
  },
  {
   "cell_type": "code",
   "execution_count": 19,
   "metadata": {},
   "outputs": [
    {
     "data": {
      "text/plain": [
       "<cassandra.cluster.ResultSet at 0x7f2394175060>"
      ]
     },
     "execution_count": 19,
     "metadata": {},
     "output_type": "execute_result"
    }
   ],
   "source": [
    "\n",
    "# Create Keyspace and Tables\n",
    "\n",
    "session.execute(\"\"\"\n",
    "    CREATE KEYSPACE IF NOT EXISTS ex1_keyspace WITH replication = {\n",
    "        'class': 'SimpleStrategy', 'replication_factor': '3'\n",
    "    }\n",
    "\"\"\")\n",
    "\n",
    "session.set_keyspace('ex1_keyspace')\n",
    "\n",
    "session.execute(\"\"\"\n",
    "    CREATE TABLE IF NOT EXISTS measurement_info (\n",
    "        station_code int,\n",
    "        measurement_date timestamp,\n",
    "        item_code int,\n",
    "        average_value float,\n",
    "        instrument_status int,\n",
    "        PRIMARY KEY (station_code, measurement_date, item_code)\n",
    "    )\n",
    "\"\"\")\n",
    "\n",
    "session.execute(\"\"\"\n",
    "    CREATE TABLE IF NOT EXISTS measurement_item_info (\n",
    "        item_code int PRIMARY KEY,\n",
    "        item_name text,\n",
    "        unit_of_measurement text,\n",
    "        good_blue float,\n",
    "        normal_green float,\n",
    "        bad_yellow float,\n",
    "        very_bad_red float\n",
    "    )\n",
    "\"\"\")\n",
    "\n",
    "session.execute(\"\"\"\n",
    "    CREATE TABLE IF NOT EXISTS measurement_station_info (\n",
    "        station_code int PRIMARY KEY,\n",
    "        station_name text,\n",
    "        address text,\n",
    "        latitude float,\n",
    "        longitude float\n",
    "    )\n",
    "\"\"\")\n",
    "\n",
    "batch_size = 500\n"
   ]
  },
  {
   "cell_type": "code",
   "execution_count": null,
   "metadata": {},
   "outputs": [
    {
     "data": {
      "text/plain": [
       "<cassandra.cluster.ResultSet at 0x7f23d1333fd0>"
      ]
     },
     "execution_count": 26,
     "metadata": {},
     "output_type": "execute_result"
    }
   ],
   "source": [
    "# Ingestion of measurement_item_info\n",
    "\n",
    "def clean_and_transform_measurement_item_info(df):\n",
    "    df['Item code'] = df['Item code'].astype(int)\n",
    "    df['Item name'] = df['Item name'].astype(str)\n",
    "    df['Unit of measurement'] = df['Unit of measurement'].astype(str)\n",
    "    df['Good(Blue)'] = df['Good(Blue)'].astype(float)\n",
    "    df['Normal(Green)'] = df['Normal(Green)'].astype(float)\n",
    "    df['Bad(Yellow)'] = df['Bad(Yellow)'].astype(float)\n",
    "    df['Very bad(Red)'] = df['Very bad(Red)'].astype(float)\n",
    "    return df\n",
    "\n",
    "measurement_item_info_normalized = clean_and_transform_measurement_item_info(measurement_item_info)\n",
    "\n",
    "insert_stmt_measurement_item_info = session.prepare(\"\"\"\n",
    "    INSERT INTO measurement_item_info (item_code, item_name, unit_of_measurement, good_blue, normal_green, bad_yellow, very_bad_red)\n",
    "    VALUES (?, ?, ?, ?, ?, ?, ?)\n",
    "\"\"\")\n",
    "\n",
    "batch = BatchStatement()\n",
    "for index, row in measurement_item_info_normalized.iterrows():\n",
    "    batch.add(insert_stmt_measurement_item_info, (row['Item code'], row['Item name'], row['Unit of measurement'], row['Good(Blue)'], row['Normal(Green)'], row['Bad(Yellow)'], row['Very bad(Red)']))\n",
    "    if index % batch_size == 0:\n",
    "        session.execute(batch)\n",
    "        batch.clear()\n",
    "\n",
    "session.execute(batch)\n"
   ]
  },
  {
   "cell_type": "code",
   "execution_count": null,
   "metadata": {},
   "outputs": [
    {
     "data": {
      "text/plain": [
       "<cassandra.cluster.ResultSet at 0x7f237ff0e2f0>"
      ]
     },
     "execution_count": 27,
     "metadata": {},
     "output_type": "execute_result"
    }
   ],
   "source": [
    "# Ingestion of measurement_station_info\n",
    "\n",
    "def clean_and_transform_measurement_station_info(df):\n",
    "    df['Station code'] = df['Station code'].astype(int)\n",
    "    df['Station name(district)'] = df['Station name(district)'].astype(str)\n",
    "    df['Address'] = df['Address'].astype(str)\n",
    "    df['Latitude'] = df['Latitude'].astype(float)\n",
    "    df['Longitude'] = df['Longitude'].astype(float)\n",
    "    return df\n",
    "\n",
    "measurement_station_info_normalized = clean_and_transform_measurement_station_info(measurement_station_info)\n",
    "insert_stmt_measurement_station_info = session.prepare(\"\"\"\n",
    "    INSERT INTO measurement_station_info (station_code, station_name, address, latitude, longitude)\n",
    "    VALUES (?, ?, ?, ?, ?)\n",
    "\"\"\")\n",
    "\n",
    "batch = BatchStatement()\n",
    "for index, row in measurement_station_info_normalized.iterrows():\n",
    "    batch.add(insert_stmt_measurement_station_info, (row['Station code'], row['Station name(district)'], row['Address'], row['Latitude'], row['Longitude']))\n",
    "    if index % batch_size == 0:\n",
    "        session.execute(batch)\n",
    "        batch.clear()\n",
    "\n",
    "session.execute(batch)"
   ]
  },
  {
   "cell_type": "code",
   "execution_count": null,
   "metadata": {},
   "outputs": [],
   "source": [
    "\n",
    "# Ingestion of measurement_info\n",
    "\n",
    "def clean_and_transform_measurement_info(df):\n",
    "    df['Measurement date'] = pd.to_datetime(df['Measurement date'])\n",
    "    df['Station code'] = df['Station code'].astype(int)\n",
    "    df['Item code'] = df['Item code'].astype(int)\n",
    "    df['Average value'] = df['Average value'].astype(float)\n",
    "    df['Instrument status'] = df['Instrument status'].astype(int)\n",
    "    return df\n",
    "\n",
    "measurement_info_normalized = clean_and_transform_measurement_info(measurement_info)\n",
    "\n",
    "insert_stmt_measurement_info = session.prepare(\"\"\"\n",
    "    INSERT INTO measurement_info (station_code, measurement_date, item_code, average_value, instrument_status)\n",
    "    VALUES (?, ?, ?, ?, ?)\n",
    "\"\"\")\n",
    "\n",
    "batch = BatchStatement()\n",
    "for index, row in measurement_info_normalized.iterrows():\n",
    "    batch.add(insert_stmt_measurement_info, (row['Station code'], row['Measurement date'], row['Item code'], row['Average value'], row['Instrument status']))\n",
    "    if index % batch_size == 0:\n",
    "        session.execute(batch)\n",
    "        batch.clear()\n",
    "\n",
    "session.execute(batch)\n"
   ]
  },
  {
   "cell_type": "markdown",
   "metadata": {},
   "source": [
    "# Question 4\n",
    "\n",
    "Starting a `cqlsh` session on the instance:\n",
    "`docker exec -it ex1_cassandra cqlsh`\n",
    "\n",
    "Applying the keyspace:\n",
    "`use ex1_keyspace`\n",
    "\n",
    "# TODO: showcase more queries with joins"
   ]
  },
  {
   "cell_type": "code",
   "execution_count": null,
   "metadata": {},
   "outputs": [],
   "source": []
  },
  {
   "cell_type": "markdown",
   "metadata": {},
   "source": [
    "## Question 5\n",
    "\n",
    "# TODO: add more queries with joins"
   ]
  },
  {
   "cell_type": "code",
   "execution_count": null,
   "metadata": {},
   "outputs": [
    {
     "data": {
      "image/png": "[encoded data removed]",
      "text/plain": [
       "<Figure size 1000x600 with 1 Axes>"
      ]
     },
     "metadata": {},
     "output_type": "display_data"
    }
   ],
   "source": [
    "\n",
    "# Query daily average air quality measurements at station 101 between 2019-01-01 and 2019-12-01\n",
    "query = \"\"\"\n",
    "SELECT measurement_date, average_value FROM measurement_info \n",
    "WHERE station_code = 101 AND measurement_date >= '2019-01-01 00:00:00' \n",
    "AND measurement_date < '2019-12-01 00:00:00';\n",
    "\"\"\"\n",
    "statement = SimpleStatement(query, fetch_size=None)\n",
    "rows = session.execute(statement)\n",
    "df = pd.DataFrame(list(rows))\n",
    "\n",
    "# Convert measurement_date to a date (without time) for daily aggregation\n",
    "df['measurement_date'] = pd.to_datetime(df['measurement_date']).dt.date\n",
    "\n",
    "# Aggregate by date to get daily average\n",
    "daily_avg = df.groupby('measurement_date')['average_value'].mean().reset_index()\n",
    "\n",
    "# Plotting\n",
    "plt.figure(figsize=(10, 6))\n",
    "plt.plot(daily_avg['measurement_date'], daily_avg['average_value'], marker='o', linestyle='-', color='b')\n",
    "plt.title('Daily Average Air Quality Measurements at Station 101 between 2019-01-01 and 2019-12-01')\n",
    "plt.xlabel('Date')\n",
    "plt.ylabel('Average Value')\n",
    "plt.xticks(rotation=45)\n",
    "plt.grid(True)\n",
    "plt.tight_layout()  # Adjusts plot to ensure everything fits without overlapping\n",
    "plt.show()"
   ]
  },
  {
   "cell_type": "markdown",
   "metadata": {},
   "source": [
    "## Question 6\n",
    "\n",
    "# TODO: this question\n"
   ]
  }
 ],
 "metadata": {
  "kernelspec": {
   "display_name": "venv",
   "language": "python",
   "name": "python3"
  },
  "language_info": {
   "codemirror_mode": {
    "name": "ipython",
    "version": 3
   },
   "file_extension": ".py",
   "mimetype": "text/x-python",
   "name": "python",
   "nbconvert_exporter": "python",
   "pygments_lexer": "ipython3",
   "version": "3.10.12"
  }
 },
 "nbformat": 4,
 "nbformat_minor": 2
}
